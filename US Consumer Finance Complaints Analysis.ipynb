{
 "cells": [
  {
   "cell_type": "code",
   "execution_count": 18,
   "metadata": {},
   "outputs": [],
   "source": [
    "# This code imports necessary libraries for data manipulation and visualization in Python,\n",
    "# and suppresses warnings to improve code readability.\n",
    "\n",
    "import pandas as pd\n",
    "import matplotlib.pyplot as plt\n",
    "\n",
    "import warnings\n",
    "warnings.filterwarnings('ignore')"
   ]
  },
  {
   "cell_type": "code",
   "execution_count": 20,
   "metadata": {},
   "outputs": [],
   "source": [
    "# loading the data\n",
    "df = pd.read_csv(\"consumer_complaints.csv\")"
   ]
  },
  {
   "cell_type": "code",
   "execution_count": 21,
   "metadata": {},
   "outputs": [
    {
     "data": {
      "text/html": [
       "<div>\n",
       "<style scoped>\n",
       "    .dataframe tbody tr th:only-of-type {\n",
       "        vertical-align: middle;\n",
       "    }\n",
       "\n",
       "    .dataframe tbody tr th {\n",
       "        vertical-align: top;\n",
       "    }\n",
       "\n",
       "    .dataframe thead th {\n",
       "        text-align: right;\n",
       "    }\n",
       "</style>\n",
       "<table border=\"1\" class=\"dataframe\">\n",
       "  <thead>\n",
       "    <tr style=\"text-align: right;\">\n",
       "      <th></th>\n",
       "      <th>date_received</th>\n",
       "      <th>product</th>\n",
       "      <th>sub_product</th>\n",
       "      <th>issue</th>\n",
       "      <th>sub_issue</th>\n",
       "      <th>consumer_complaint_narrative</th>\n",
       "      <th>company_public_response</th>\n",
       "      <th>company</th>\n",
       "      <th>state</th>\n",
       "      <th>zipcode</th>\n",
       "      <th>tags</th>\n",
       "      <th>consumer_consent_provided</th>\n",
       "      <th>submitted_via</th>\n",
       "      <th>date_sent_to_company</th>\n",
       "      <th>company_response_to_consumer</th>\n",
       "      <th>timely_response</th>\n",
       "      <th>consumer_disputed?</th>\n",
       "      <th>complaint_id</th>\n",
       "    </tr>\n",
       "  </thead>\n",
       "  <tbody>\n",
       "    <tr>\n",
       "      <th>0</th>\n",
       "      <td>08/30/2013</td>\n",
       "      <td>Mortgage</td>\n",
       "      <td>Other mortgage</td>\n",
       "      <td>Loan modification,collection,foreclosure</td>\n",
       "      <td>NaN</td>\n",
       "      <td>NaN</td>\n",
       "      <td>NaN</td>\n",
       "      <td>U.S. Bancorp</td>\n",
       "      <td>CA</td>\n",
       "      <td>95993</td>\n",
       "      <td>NaN</td>\n",
       "      <td>NaN</td>\n",
       "      <td>Referral</td>\n",
       "      <td>09/03/2013</td>\n",
       "      <td>Closed with explanation</td>\n",
       "      <td>Yes</td>\n",
       "      <td>Yes</td>\n",
       "      <td>511074</td>\n",
       "    </tr>\n",
       "    <tr>\n",
       "      <th>1</th>\n",
       "      <td>08/30/2013</td>\n",
       "      <td>Mortgage</td>\n",
       "      <td>Other mortgage</td>\n",
       "      <td>Loan servicing, payments, escrow account</td>\n",
       "      <td>NaN</td>\n",
       "      <td>NaN</td>\n",
       "      <td>NaN</td>\n",
       "      <td>Wells Fargo &amp; Company</td>\n",
       "      <td>CA</td>\n",
       "      <td>91104</td>\n",
       "      <td>NaN</td>\n",
       "      <td>NaN</td>\n",
       "      <td>Referral</td>\n",
       "      <td>09/03/2013</td>\n",
       "      <td>Closed with explanation</td>\n",
       "      <td>Yes</td>\n",
       "      <td>Yes</td>\n",
       "      <td>511080</td>\n",
       "    </tr>\n",
       "    <tr>\n",
       "      <th>2</th>\n",
       "      <td>08/30/2013</td>\n",
       "      <td>Credit reporting</td>\n",
       "      <td>NaN</td>\n",
       "      <td>Incorrect information on credit report</td>\n",
       "      <td>Account status</td>\n",
       "      <td>NaN</td>\n",
       "      <td>NaN</td>\n",
       "      <td>Wells Fargo &amp; Company</td>\n",
       "      <td>NY</td>\n",
       "      <td>11764</td>\n",
       "      <td>NaN</td>\n",
       "      <td>NaN</td>\n",
       "      <td>Postal mail</td>\n",
       "      <td>09/18/2013</td>\n",
       "      <td>Closed with explanation</td>\n",
       "      <td>Yes</td>\n",
       "      <td>No</td>\n",
       "      <td>510473</td>\n",
       "    </tr>\n",
       "    <tr>\n",
       "      <th>3</th>\n",
       "      <td>08/30/2013</td>\n",
       "      <td>Student loan</td>\n",
       "      <td>Non-federal student loan</td>\n",
       "      <td>Repaying your loan</td>\n",
       "      <td>Repaying your loan</td>\n",
       "      <td>NaN</td>\n",
       "      <td>NaN</td>\n",
       "      <td>Navient Solutions, Inc.</td>\n",
       "      <td>MD</td>\n",
       "      <td>21402</td>\n",
       "      <td>NaN</td>\n",
       "      <td>NaN</td>\n",
       "      <td>Email</td>\n",
       "      <td>08/30/2013</td>\n",
       "      <td>Closed with explanation</td>\n",
       "      <td>Yes</td>\n",
       "      <td>Yes</td>\n",
       "      <td>510326</td>\n",
       "    </tr>\n",
       "    <tr>\n",
       "      <th>4</th>\n",
       "      <td>08/30/2013</td>\n",
       "      <td>Debt collection</td>\n",
       "      <td>Credit card</td>\n",
       "      <td>False statements or representation</td>\n",
       "      <td>Attempted to collect wrong amount</td>\n",
       "      <td>NaN</td>\n",
       "      <td>NaN</td>\n",
       "      <td>Resurgent Capital Services L.P.</td>\n",
       "      <td>GA</td>\n",
       "      <td>30106</td>\n",
       "      <td>NaN</td>\n",
       "      <td>NaN</td>\n",
       "      <td>Web</td>\n",
       "      <td>08/30/2013</td>\n",
       "      <td>Closed with explanation</td>\n",
       "      <td>Yes</td>\n",
       "      <td>Yes</td>\n",
       "      <td>511067</td>\n",
       "    </tr>\n",
       "  </tbody>\n",
       "</table>\n",
       "</div>"
      ],
      "text/plain": [
       "  date_received           product               sub_product  \\\n",
       "0    08/30/2013          Mortgage            Other mortgage   \n",
       "1    08/30/2013          Mortgage            Other mortgage   \n",
       "2    08/30/2013  Credit reporting                       NaN   \n",
       "3    08/30/2013      Student loan  Non-federal student loan   \n",
       "4    08/30/2013   Debt collection               Credit card   \n",
       "\n",
       "                                      issue  \\\n",
       "0  Loan modification,collection,foreclosure   \n",
       "1  Loan servicing, payments, escrow account   \n",
       "2    Incorrect information on credit report   \n",
       "3                        Repaying your loan   \n",
       "4        False statements or representation   \n",
       "\n",
       "                           sub_issue consumer_complaint_narrative  \\\n",
       "0                                NaN                          NaN   \n",
       "1                                NaN                          NaN   \n",
       "2                     Account status                          NaN   \n",
       "3                 Repaying your loan                          NaN   \n",
       "4  Attempted to collect wrong amount                          NaN   \n",
       "\n",
       "  company_public_response                          company state zipcode tags  \\\n",
       "0                     NaN                     U.S. Bancorp    CA   95993  NaN   \n",
       "1                     NaN            Wells Fargo & Company    CA   91104  NaN   \n",
       "2                     NaN            Wells Fargo & Company    NY   11764  NaN   \n",
       "3                     NaN          Navient Solutions, Inc.    MD   21402  NaN   \n",
       "4                     NaN  Resurgent Capital Services L.P.    GA   30106  NaN   \n",
       "\n",
       "  consumer_consent_provided submitted_via date_sent_to_company  \\\n",
       "0                       NaN      Referral           09/03/2013   \n",
       "1                       NaN      Referral           09/03/2013   \n",
       "2                       NaN   Postal mail           09/18/2013   \n",
       "3                       NaN         Email           08/30/2013   \n",
       "4                       NaN           Web           08/30/2013   \n",
       "\n",
       "  company_response_to_consumer timely_response consumer_disputed?  \\\n",
       "0      Closed with explanation             Yes                Yes   \n",
       "1      Closed with explanation             Yes                Yes   \n",
       "2      Closed with explanation             Yes                 No   \n",
       "3      Closed with explanation             Yes                Yes   \n",
       "4      Closed with explanation             Yes                Yes   \n",
       "\n",
       "   complaint_id  \n",
       "0        511074  \n",
       "1        511080  \n",
       "2        510473  \n",
       "3        510326  \n",
       "4        511067  "
      ]
     },
     "execution_count": 21,
     "metadata": {},
     "output_type": "execute_result"
    }
   ],
   "source": [
    "df.head()"
   ]
  },
  {
   "cell_type": "code",
   "execution_count": 22,
   "metadata": {},
   "outputs": [
    {
     "data": {
      "text/html": [
       "<div>\n",
       "<style scoped>\n",
       "    .dataframe tbody tr th:only-of-type {\n",
       "        vertical-align: middle;\n",
       "    }\n",
       "\n",
       "    .dataframe tbody tr th {\n",
       "        vertical-align: top;\n",
       "    }\n",
       "\n",
       "    .dataframe thead th {\n",
       "        text-align: right;\n",
       "    }\n",
       "</style>\n",
       "<table border=\"1\" class=\"dataframe\">\n",
       "  <thead>\n",
       "    <tr style=\"text-align: right;\">\n",
       "      <th></th>\n",
       "      <th>date_received</th>\n",
       "      <th>product</th>\n",
       "      <th>sub_product</th>\n",
       "      <th>issue</th>\n",
       "      <th>sub_issue</th>\n",
       "      <th>consumer_complaint_narrative</th>\n",
       "      <th>company_public_response</th>\n",
       "      <th>company</th>\n",
       "      <th>state</th>\n",
       "      <th>zipcode</th>\n",
       "      <th>tags</th>\n",
       "      <th>consumer_consent_provided</th>\n",
       "      <th>submitted_via</th>\n",
       "      <th>date_sent_to_company</th>\n",
       "      <th>company_response_to_consumer</th>\n",
       "      <th>timely_response</th>\n",
       "      <th>consumer_disputed?</th>\n",
       "      <th>complaint_id</th>\n",
       "    </tr>\n",
       "  </thead>\n",
       "  <tbody>\n",
       "    <tr>\n",
       "      <th>555952</th>\n",
       "      <td>07/01/2014</td>\n",
       "      <td>Mortgage</td>\n",
       "      <td>Other mortgage</td>\n",
       "      <td>Loan modification,collection,foreclosure</td>\n",
       "      <td>NaN</td>\n",
       "      <td>NaN</td>\n",
       "      <td>NaN</td>\n",
       "      <td>Bank of America</td>\n",
       "      <td>NaN</td>\n",
       "      <td>NaN</td>\n",
       "      <td>NaN</td>\n",
       "      <td>NaN</td>\n",
       "      <td>Referral</td>\n",
       "      <td>07/07/2014</td>\n",
       "      <td>Closed with explanation</td>\n",
       "      <td>Yes</td>\n",
       "      <td>No</td>\n",
       "      <td>919529</td>\n",
       "    </tr>\n",
       "    <tr>\n",
       "      <th>555953</th>\n",
       "      <td>07/01/2014</td>\n",
       "      <td>Mortgage</td>\n",
       "      <td>Other mortgage</td>\n",
       "      <td>Loan servicing, payments, escrow account</td>\n",
       "      <td>NaN</td>\n",
       "      <td>NaN</td>\n",
       "      <td>NaN</td>\n",
       "      <td>Residential Credit Solutions</td>\n",
       "      <td>NaN</td>\n",
       "      <td>NaN</td>\n",
       "      <td>Older American, Servicemember</td>\n",
       "      <td>NaN</td>\n",
       "      <td>Referral</td>\n",
       "      <td>07/23/2014</td>\n",
       "      <td>Closed with explanation</td>\n",
       "      <td>No</td>\n",
       "      <td>No</td>\n",
       "      <td>918447</td>\n",
       "    </tr>\n",
       "    <tr>\n",
       "      <th>555954</th>\n",
       "      <td>07/10/2012</td>\n",
       "      <td>Mortgage</td>\n",
       "      <td>Conventional fixed mortgage</td>\n",
       "      <td>Loan modification,collection,foreclosure</td>\n",
       "      <td>NaN</td>\n",
       "      <td>NaN</td>\n",
       "      <td>NaN</td>\n",
       "      <td>BB&amp;T Financial</td>\n",
       "      <td>NaN</td>\n",
       "      <td>NaN</td>\n",
       "      <td>NaN</td>\n",
       "      <td>NaN</td>\n",
       "      <td>Phone</td>\n",
       "      <td>11/18/2013</td>\n",
       "      <td>Closed with explanation</td>\n",
       "      <td>Yes</td>\n",
       "      <td>No</td>\n",
       "      <td>114550</td>\n",
       "    </tr>\n",
       "    <tr>\n",
       "      <th>555955</th>\n",
       "      <td>04/14/2015</td>\n",
       "      <td>Debt collection</td>\n",
       "      <td>I do not know</td>\n",
       "      <td>Communication tactics</td>\n",
       "      <td>Frequent or repeated calls</td>\n",
       "      <td>NaN</td>\n",
       "      <td>NaN</td>\n",
       "      <td>Global Recovery Group</td>\n",
       "      <td>NaN</td>\n",
       "      <td>NaN</td>\n",
       "      <td>NaN</td>\n",
       "      <td>NaN</td>\n",
       "      <td>Phone</td>\n",
       "      <td>04/14/2015</td>\n",
       "      <td>Untimely response</td>\n",
       "      <td>No</td>\n",
       "      <td>No</td>\n",
       "      <td>1329963</td>\n",
       "    </tr>\n",
       "    <tr>\n",
       "      <th>555956</th>\n",
       "      <td>08/14/2014</td>\n",
       "      <td>Debt collection</td>\n",
       "      <td>I do not know</td>\n",
       "      <td>Cont'd attempts collect debt not owed</td>\n",
       "      <td>Debt is not mine</td>\n",
       "      <td>NaN</td>\n",
       "      <td>NaN</td>\n",
       "      <td>CCS Financial Services, Inc.</td>\n",
       "      <td>NaN</td>\n",
       "      <td>NaN</td>\n",
       "      <td>NaN</td>\n",
       "      <td>NaN</td>\n",
       "      <td>Phone</td>\n",
       "      <td>08/18/2014</td>\n",
       "      <td>Closed with explanation</td>\n",
       "      <td>Yes</td>\n",
       "      <td>No</td>\n",
       "      <td>984116</td>\n",
       "    </tr>\n",
       "  </tbody>\n",
       "</table>\n",
       "</div>"
      ],
      "text/plain": [
       "       date_received          product                  sub_product  \\\n",
       "555952    07/01/2014         Mortgage               Other mortgage   \n",
       "555953    07/01/2014         Mortgage               Other mortgage   \n",
       "555954    07/10/2012         Mortgage  Conventional fixed mortgage   \n",
       "555955    04/14/2015  Debt collection                I do not know   \n",
       "555956    08/14/2014  Debt collection                I do not know   \n",
       "\n",
       "                                           issue                   sub_issue  \\\n",
       "555952  Loan modification,collection,foreclosure                         NaN   \n",
       "555953  Loan servicing, payments, escrow account                         NaN   \n",
       "555954  Loan modification,collection,foreclosure                         NaN   \n",
       "555955                     Communication tactics  Frequent or repeated calls   \n",
       "555956     Cont'd attempts collect debt not owed            Debt is not mine   \n",
       "\n",
       "       consumer_complaint_narrative company_public_response  \\\n",
       "555952                          NaN                     NaN   \n",
       "555953                          NaN                     NaN   \n",
       "555954                          NaN                     NaN   \n",
       "555955                          NaN                     NaN   \n",
       "555956                          NaN                     NaN   \n",
       "\n",
       "                             company state zipcode  \\\n",
       "555952               Bank of America   NaN     NaN   \n",
       "555953  Residential Credit Solutions   NaN     NaN   \n",
       "555954                BB&T Financial   NaN     NaN   \n",
       "555955         Global Recovery Group   NaN     NaN   \n",
       "555956  CCS Financial Services, Inc.   NaN     NaN   \n",
       "\n",
       "                                 tags consumer_consent_provided submitted_via  \\\n",
       "555952                            NaN                       NaN      Referral   \n",
       "555953  Older American, Servicemember                       NaN      Referral   \n",
       "555954                            NaN                       NaN         Phone   \n",
       "555955                            NaN                       NaN         Phone   \n",
       "555956                            NaN                       NaN         Phone   \n",
       "\n",
       "       date_sent_to_company company_response_to_consumer timely_response  \\\n",
       "555952           07/07/2014      Closed with explanation             Yes   \n",
       "555953           07/23/2014      Closed with explanation              No   \n",
       "555954           11/18/2013      Closed with explanation             Yes   \n",
       "555955           04/14/2015            Untimely response              No   \n",
       "555956           08/18/2014      Closed with explanation             Yes   \n",
       "\n",
       "       consumer_disputed?  complaint_id  \n",
       "555952                 No        919529  \n",
       "555953                 No        918447  \n",
       "555954                 No        114550  \n",
       "555955                 No       1329963  \n",
       "555956                 No        984116  "
      ]
     },
     "execution_count": 22,
     "metadata": {},
     "output_type": "execute_result"
    }
   ],
   "source": [
    "df.tail()"
   ]
  },
  {
   "cell_type": "code",
   "execution_count": 23,
   "metadata": {},
   "outputs": [
    {
     "data": {
      "text/plain": [
       "(555957, 18)"
      ]
     },
     "execution_count": 23,
     "metadata": {},
     "output_type": "execute_result"
    }
   ],
   "source": [
    "# Shape of the dataset\n",
    "df.shape"
   ]
  },
  {
   "cell_type": "code",
   "execution_count": 31,
   "metadata": {},
   "outputs": [
    {
     "name": "stdout",
     "output_type": "stream",
     "text": [
      "<class 'pandas.core.frame.DataFrame'>\n",
      "RangeIndex: 555957 entries, 0 to 555956\n",
      "Data columns (total 18 columns):\n",
      " #   Column                        Non-Null Count   Dtype         \n",
      "---  ------                        --------------   -----         \n",
      " 0   date_received                 555957 non-null  datetime64[ns]\n",
      " 1   product                       555957 non-null  object        \n",
      " 2   sub_product                   397635 non-null  object        \n",
      " 3   issue                         555957 non-null  object        \n",
      " 4   sub_issue                     212622 non-null  object        \n",
      " 5   consumer_complaint_narrative  66806 non-null   object        \n",
      " 6   company_public_response       85124 non-null   object        \n",
      " 7   company                       555957 non-null  object        \n",
      " 8   state                         551070 non-null  object        \n",
      " 9   zipcode                       551452 non-null  object        \n",
      " 10  tags                          77959 non-null   object        \n",
      " 11  consumer_consent_provided     123458 non-null  object        \n",
      " 12  submitted_via                 555957 non-null  object        \n",
      " 13  date_sent_to_company          555957 non-null  object        \n",
      " 14  company_response_to_consumer  555957 non-null  object        \n",
      " 15  timely_response               555957 non-null  object        \n",
      " 16  consumer_disputed?            555957 non-null  object        \n",
      " 17  complaint_id                  555957 non-null  int64         \n",
      "dtypes: datetime64[ns](1), int64(1), object(16)\n",
      "memory usage: 76.3+ MB\n"
     ]
    }
   ],
   "source": [
    "df.info()"
   ]
  },
  {
   "cell_type": "code",
   "execution_count": 35,
   "metadata": {},
   "outputs": [],
   "source": [
    "# Changing the datatype of date_received and date_sent_to_company\n",
    "df.date_received = pd.to_datetime(df.date_received)\n",
    "df['date_sent_to_company'] = pd.to_datetime(df['date_sent_to_company'])"
   ]
  },
  {
   "cell_type": "code",
   "execution_count": 36,
   "metadata": {},
   "outputs": [
    {
     "name": "stdout",
     "output_type": "stream",
     "text": [
      "<class 'pandas.core.frame.DataFrame'>\n",
      "RangeIndex: 555957 entries, 0 to 555956\n",
      "Data columns (total 18 columns):\n",
      " #   Column                        Non-Null Count   Dtype         \n",
      "---  ------                        --------------   -----         \n",
      " 0   date_received                 555957 non-null  datetime64[ns]\n",
      " 1   product                       555957 non-null  object        \n",
      " 2   sub_product                   397635 non-null  object        \n",
      " 3   issue                         555957 non-null  object        \n",
      " 4   sub_issue                     212622 non-null  object        \n",
      " 5   consumer_complaint_narrative  66806 non-null   object        \n",
      " 6   company_public_response       85124 non-null   object        \n",
      " 7   company                       555957 non-null  object        \n",
      " 8   state                         551070 non-null  object        \n",
      " 9   zipcode                       551452 non-null  object        \n",
      " 10  tags                          77959 non-null   object        \n",
      " 11  consumer_consent_provided     123458 non-null  object        \n",
      " 12  submitted_via                 555957 non-null  object        \n",
      " 13  date_sent_to_company          555957 non-null  datetime64[ns]\n",
      " 14  company_response_to_consumer  555957 non-null  object        \n",
      " 15  timely_response               555957 non-null  object        \n",
      " 16  consumer_disputed?            555957 non-null  object        \n",
      " 17  complaint_id                  555957 non-null  int64         \n",
      "dtypes: datetime64[ns](2), int64(1), object(15)\n",
      "memory usage: 76.3+ MB\n"
     ]
    }
   ],
   "source": [
    "df.info()"
   ]
  },
  {
   "cell_type": "code",
   "execution_count": 38,
   "metadata": {},
   "outputs": [
    {
     "data": {
      "text/plain": [
       "date_received                     1608\n",
       "product                             11\n",
       "sub_product                         46\n",
       "issue                               95\n",
       "sub_issue                           68\n",
       "consumer_complaint_narrative     65646\n",
       "company_public_response             10\n",
       "company                           3605\n",
       "state                               62\n",
       "zipcode                          27052\n",
       "tags                                 3\n",
       "consumer_consent_provided            4\n",
       "submitted_via                        6\n",
       "date_sent_to_company              1557\n",
       "company_response_to_consumer         8\n",
       "timely_response                      2\n",
       "consumer_disputed?                   2\n",
       "complaint_id                    555957\n",
       "dtype: int64"
      ]
     },
     "execution_count": 38,
     "metadata": {},
     "output_type": "execute_result"
    }
   ],
   "source": [
    "df.nunique()"
   ]
  },
  {
   "cell_type": "code",
   "execution_count": 43,
   "metadata": {},
   "outputs": [
    {
     "data": {
      "text/plain": [
       "date_received                        0\n",
       "product                              0\n",
       "sub_product                     158322\n",
       "issue                                0\n",
       "sub_issue                       343335\n",
       "consumer_complaint_narrative    489151\n",
       "company_public_response         470833\n",
       "company                              0\n",
       "state                             4887\n",
       "zipcode                           4505\n",
       "tags                            477998\n",
       "consumer_consent_provided       432499\n",
       "submitted_via                        0\n",
       "date_sent_to_company                 0\n",
       "company_response_to_consumer         0\n",
       "timely_response                      0\n",
       "consumer_disputed?                   0\n",
       "complaint_id                         0\n",
       "dtype: int64"
      ]
     },
     "execution_count": 43,
     "metadata": {},
     "output_type": "execute_result"
    }
   ],
   "source": [
    "# Checking for the missing values\n",
    "df.isna().sum()"
   ]
  },
  {
   "cell_type": "code",
   "execution_count": 47,
   "metadata": {},
   "outputs": [
    {
     "data": {
      "text/plain": [
       "0"
      ]
     },
     "execution_count": 47,
     "metadata": {},
     "output_type": "execute_result"
    }
   ],
   "source": [
    "df.duplicated().sum()"
   ]
  },
  {
   "cell_type": "code",
   "execution_count": 65,
   "metadata": {},
   "outputs": [
    {
     "data": {
      "text/plain": [
       "consumer_complaint_narrative    87.98\n",
       "tags                            85.98\n",
       "company_public_response         84.69\n",
       "consumer_consent_provided       77.79\n",
       "sub_issue                       61.76\n",
       "sub_product                     28.48\n",
       "state                            0.88\n",
       "zipcode                          0.81\n",
       "product                          0.00\n",
       "issue                            0.00\n",
       "complaint_id                     0.00\n",
       "company                          0.00\n",
       "consumer_disputed?               0.00\n",
       "submitted_via                    0.00\n",
       "date_sent_to_company             0.00\n",
       "company_response_to_consumer     0.00\n",
       "timely_response                  0.00\n",
       "date_received                    0.00\n",
       "dtype: float64"
      ]
     },
     "execution_count": 65,
     "metadata": {},
     "output_type": "execute_result"
    }
   ],
   "source": [
    "# Percentage of missing values\n",
    "missing_percentage =  round((df.isna().sum()/len(df)*100),2).sort_values(ascending=False)\n",
    "missing_percentage"
   ]
  },
  {
   "cell_type": "code",
   "execution_count": 67,
   "metadata": {},
   "outputs": [
    {
     "data": {
      "image/png": "[encoded data removed]",
      "text/plain": [
       "<Figure size 576x576 with 1 Axes>"
      ]
     },
     "metadata": {
      "needs_background": "light"
     },
     "output_type": "display_data"
    }
   ],
   "source": [
    "# Graph showing the percentage of missing data\n",
    "plt.figure(figsize=(8,8))\n",
    "missing_percentage.plot(kind='barh')\n",
    "plt.xlabel('Percentage of missing data')\n",
    "plt.ylabel('Variables')\n",
    "plt.title('Percentage of missing values in each variable')\n",
    "plt.show()"
   ]
  },
  {
   "cell_type": "code",
   "execution_count": 71,
   "metadata": {},
   "outputs": [
    {
     "data": {
      "text/plain": [
       "array(['Mortgage', 'Credit reporting', 'Student loan', 'Debt collection',\n",
       "       'Credit card', 'Bank account or service', 'Consumer Loan',\n",
       "       'Money transfers', 'Payday loan', 'Prepaid card',\n",
       "       'Other financial service'], dtype=object)"
      ]
     },
     "execution_count": 71,
     "metadata": {},
     "output_type": "execute_result"
    }
   ],
   "source": [
    "# Different products complaints was made about\n",
    "df['product'].unique()"
   ]
  },
  {
   "cell_type": "code",
   "execution_count": 72,
   "metadata": {},
   "outputs": [
    {
     "data": {
      "text/plain": [
       "object            15\n",
       "datetime64[ns]     2\n",
       "int64              1\n",
       "dtype: int64"
      ]
     },
     "execution_count": 72,
     "metadata": {},
     "output_type": "execute_result"
    }
   ],
   "source": [
    "# Datatypes and the count of variables\n",
    "df.dtypes.value_counts()"
   ]
  },
  {
   "cell_type": "code",
   "execution_count": 75,
   "metadata": {},
   "outputs": [
    {
     "data": {
      "image/png": "[encoded data removed]",
      "text/plain": [
       "<Figure size 360x360 with 1 Axes>"
      ]
     },
     "metadata": {
      "needs_background": "light"
     },
     "output_type": "display_data"
    }
   ],
   "source": [
    "# Count(frequency) plot describing the datatypes and the count of variable\n",
    "plt.figure(figsize=(5,5))\n",
    "plt.bar(['object','datetime','int'],df.dtypes.value_counts())\n",
    "plt.xlabel('Datatypes')\n",
    "plt.ylabel('No of Variables')\n",
    "plt.title('Count(frequency) plot describing the datatypes and the count of variable')\n",
    "plt.show()"
   ]
  },
  {
   "cell_type": "code",
   "execution_count": 82,
   "metadata": {},
   "outputs": [
    {
     "name": "stdout",
     "output_type": "stream",
     "text": [
      "Minimun date : 2011-12-01 00:00:00 \n",
      "\n",
      "Maximum date : 2016-04-25 00:00:00 \n",
      "\n"
     ]
    }
   ],
   "source": [
    "# Minimum & Maximun date\n",
    "print('Minimun date :',df.date_received.min(),'\\n')\n",
    "print('Maximum date :',df.date_received.max(),'\\n')"
   ]
  },
  {
   "cell_type": "markdown",
   "metadata": {},
   "source": [
    "Data is recorded between 1st Dec 2011 and 25th April 2016"
   ]
  },
  {
   "cell_type": "code",
   "execution_count": 83,
   "metadata": {},
   "outputs": [
    {
     "data": {
      "text/plain": [
       "Index(['date_received', 'product', 'sub_product', 'issue', 'sub_issue',\n",
       "       'consumer_complaint_narrative', 'company_public_response', 'company',\n",
       "       'state', 'zipcode', 'tags', 'consumer_consent_provided',\n",
       "       'submitted_via', 'date_sent_to_company', 'company_response_to_consumer',\n",
       "       'timely_response', 'consumer_disputed?', 'complaint_id'],\n",
       "      dtype='object')"
      ]
     },
     "execution_count": 83,
     "metadata": {},
     "output_type": "execute_result"
    }
   ],
   "source": [
    "df.columns"
   ]
  },
  {
   "cell_type": "code",
   "execution_count": 85,
   "metadata": {},
   "outputs": [],
   "source": [
    "# Reindexing the DataFrame columns to a specific order.\n",
    "# This helps to organize the columns in a desired sequence.\n",
    "\n",
    "df = df.reindex(columns=['complaint_id','date_received','product', 'sub_product', 'issue', 'sub_issue',\n",
    "       'consumer_complaint_narrative', 'company_public_response', 'company',\n",
    "       'state', 'zipcode', 'tags', 'consumer_consent_provided',\n",
    "       'submitted_via', 'date_sent_to_company', 'company_response_to_consumer',\n",
    "       'timely_response', 'consumer_disputed?','month'])"
   ]
  },
  {
   "cell_type": "code",
   "execution_count": 86,
   "metadata": {
    "scrolled": true
   },
   "outputs": [
    {
     "data": {
      "text/html": [
       "<div>\n",
       "<style scoped>\n",
       "    .dataframe tbody tr th:only-of-type {\n",
       "        vertical-align: middle;\n",
       "    }\n",
       "\n",
       "    .dataframe tbody tr th {\n",
       "        vertical-align: top;\n",
       "    }\n",
       "\n",
       "    .dataframe thead th {\n",
       "        text-align: right;\n",
       "    }\n",
       "</style>\n",
       "<table border=\"1\" class=\"dataframe\">\n",
       "  <thead>\n",
       "    <tr style=\"text-align: right;\">\n",
       "      <th></th>\n",
       "      <th>complaint_id</th>\n",
       "      <th>date_received</th>\n",
       "      <th>product</th>\n",
       "      <th>sub_product</th>\n",
       "      <th>issue</th>\n",
       "      <th>sub_issue</th>\n",
       "      <th>consumer_complaint_narrative</th>\n",
       "      <th>company_public_response</th>\n",
       "      <th>company</th>\n",
       "      <th>state</th>\n",
       "      <th>zipcode</th>\n",
       "      <th>tags</th>\n",
       "      <th>consumer_consent_provided</th>\n",
       "      <th>submitted_via</th>\n",
       "      <th>date_sent_to_company</th>\n",
       "      <th>company_response_to_consumer</th>\n",
       "      <th>timely_response</th>\n",
       "      <th>consumer_disputed?</th>\n",
       "      <th>month</th>\n",
       "    </tr>\n",
       "  </thead>\n",
       "  <tbody>\n",
       "    <tr>\n",
       "      <th>0</th>\n",
       "      <td>511074</td>\n",
       "      <td>2013-08-30</td>\n",
       "      <td>Mortgage</td>\n",
       "      <td>Other mortgage</td>\n",
       "      <td>Loan modification,collection,foreclosure</td>\n",
       "      <td>NaN</td>\n",
       "      <td>NaN</td>\n",
       "      <td>NaN</td>\n",
       "      <td>U.S. Bancorp</td>\n",
       "      <td>CA</td>\n",
       "      <td>95993</td>\n",
       "      <td>NaN</td>\n",
       "      <td>NaN</td>\n",
       "      <td>Referral</td>\n",
       "      <td>2013-09-03</td>\n",
       "      <td>Closed with explanation</td>\n",
       "      <td>Yes</td>\n",
       "      <td>Yes</td>\n",
       "      <td>NaN</td>\n",
       "    </tr>\n",
       "    <tr>\n",
       "      <th>1</th>\n",
       "      <td>511080</td>\n",
       "      <td>2013-08-30</td>\n",
       "      <td>Mortgage</td>\n",
       "      <td>Other mortgage</td>\n",
       "      <td>Loan servicing, payments, escrow account</td>\n",
       "      <td>NaN</td>\n",
       "      <td>NaN</td>\n",
       "      <td>NaN</td>\n",
       "      <td>Wells Fargo &amp; Company</td>\n",
       "      <td>CA</td>\n",
       "      <td>91104</td>\n",
       "      <td>NaN</td>\n",
       "      <td>NaN</td>\n",
       "      <td>Referral</td>\n",
       "      <td>2013-09-03</td>\n",
       "      <td>Closed with explanation</td>\n",
       "      <td>Yes</td>\n",
       "      <td>Yes</td>\n",
       "      <td>NaN</td>\n",
       "    </tr>\n",
       "    <tr>\n",
       "      <th>2</th>\n",
       "      <td>510473</td>\n",
       "      <td>2013-08-30</td>\n",
       "      <td>Credit reporting</td>\n",
       "      <td>NaN</td>\n",
       "      <td>Incorrect information on credit report</td>\n",
       "      <td>Account status</td>\n",
       "      <td>NaN</td>\n",
       "      <td>NaN</td>\n",
       "      <td>Wells Fargo &amp; Company</td>\n",
       "      <td>NY</td>\n",
       "      <td>11764</td>\n",
       "      <td>NaN</td>\n",
       "      <td>NaN</td>\n",
       "      <td>Postal mail</td>\n",
       "      <td>2013-09-18</td>\n",
       "      <td>Closed with explanation</td>\n",
       "      <td>Yes</td>\n",
       "      <td>No</td>\n",
       "      <td>NaN</td>\n",
       "    </tr>\n",
       "    <tr>\n",
       "      <th>3</th>\n",
       "      <td>510326</td>\n",
       "      <td>2013-08-30</td>\n",
       "      <td>Student loan</td>\n",
       "      <td>Non-federal student loan</td>\n",
       "      <td>Repaying your loan</td>\n",
       "      <td>Repaying your loan</td>\n",
       "      <td>NaN</td>\n",
       "      <td>NaN</td>\n",
       "      <td>Navient Solutions, Inc.</td>\n",
       "      <td>MD</td>\n",
       "      <td>21402</td>\n",
       "      <td>NaN</td>\n",
       "      <td>NaN</td>\n",
       "      <td>Email</td>\n",
       "      <td>2013-08-30</td>\n",
       "      <td>Closed with explanation</td>\n",
       "      <td>Yes</td>\n",
       "      <td>Yes</td>\n",
       "      <td>NaN</td>\n",
       "    </tr>\n",
       "    <tr>\n",
       "      <th>4</th>\n",
       "      <td>511067</td>\n",
       "      <td>2013-08-30</td>\n",
       "      <td>Debt collection</td>\n",
       "      <td>Credit card</td>\n",
       "      <td>False statements or representation</td>\n",
       "      <td>Attempted to collect wrong amount</td>\n",
       "      <td>NaN</td>\n",
       "      <td>NaN</td>\n",
       "      <td>Resurgent Capital Services L.P.</td>\n",
       "      <td>GA</td>\n",
       "      <td>30106</td>\n",
       "      <td>NaN</td>\n",
       "      <td>NaN</td>\n",
       "      <td>Web</td>\n",
       "      <td>2013-08-30</td>\n",
       "      <td>Closed with explanation</td>\n",
       "      <td>Yes</td>\n",
       "      <td>Yes</td>\n",
       "      <td>NaN</td>\n",
       "    </tr>\n",
       "  </tbody>\n",
       "</table>\n",
       "</div>"
      ],
      "text/plain": [
       "   complaint_id date_received           product               sub_product  \\\n",
       "0        511074    2013-08-30          Mortgage            Other mortgage   \n",
       "1        511080    2013-08-30          Mortgage            Other mortgage   \n",
       "2        510473    2013-08-30  Credit reporting                       NaN   \n",
       "3        510326    2013-08-30      Student loan  Non-federal student loan   \n",
       "4        511067    2013-08-30   Debt collection               Credit card   \n",
       "\n",
       "                                      issue  \\\n",
       "0  Loan modification,collection,foreclosure   \n",
       "1  Loan servicing, payments, escrow account   \n",
       "2    Incorrect information on credit report   \n",
       "3                        Repaying your loan   \n",
       "4        False statements or representation   \n",
       "\n",
       "                           sub_issue consumer_complaint_narrative  \\\n",
       "0                                NaN                          NaN   \n",
       "1                                NaN                          NaN   \n",
       "2                     Account status                          NaN   \n",
       "3                 Repaying your loan                          NaN   \n",
       "4  Attempted to collect wrong amount                          NaN   \n",
       "\n",
       "  company_public_response                          company state zipcode tags  \\\n",
       "0                     NaN                     U.S. Bancorp    CA   95993  NaN   \n",
       "1                     NaN            Wells Fargo & Company    CA   91104  NaN   \n",
       "2                     NaN            Wells Fargo & Company    NY   11764  NaN   \n",
       "3                     NaN          Navient Solutions, Inc.    MD   21402  NaN   \n",
       "4                     NaN  Resurgent Capital Services L.P.    GA   30106  NaN   \n",
       "\n",
       "  consumer_consent_provided submitted_via date_sent_to_company  \\\n",
       "0                       NaN      Referral           2013-09-03   \n",
       "1                       NaN      Referral           2013-09-03   \n",
       "2                       NaN   Postal mail           2013-09-18   \n",
       "3                       NaN         Email           2013-08-30   \n",
       "4                       NaN           Web           2013-08-30   \n",
       "\n",
       "  company_response_to_consumer timely_response consumer_disputed?  month  \n",
       "0      Closed with explanation             Yes                Yes    NaN  \n",
       "1      Closed with explanation             Yes                Yes    NaN  \n",
       "2      Closed with explanation             Yes                 No    NaN  \n",
       "3      Closed with explanation             Yes                Yes    NaN  \n",
       "4      Closed with explanation             Yes                Yes    NaN  "
      ]
     },
     "execution_count": 86,
     "metadata": {},
     "output_type": "execute_result"
    }
   ],
   "source": [
    "df.head()"
   ]
  },
  {
   "cell_type": "code",
   "execution_count": 87,
   "metadata": {},
   "outputs": [
    {
     "data": {
      "text/plain": [
       "array([2013, 2014, 2015, 2016, 2012, 2011], dtype=int64)"
      ]
     },
     "execution_count": 87,
     "metadata": {},
     "output_type": "execute_result"
    }
   ],
   "source": [
    "# Years for which the data is recorded\n",
    "df.date_received.dt.year.unique()"
   ]
  },
  {
   "cell_type": "markdown",
   "metadata": {},
   "source": [
    "# Exploratory Data Analysis :"
   ]
  },
  {
   "cell_type": "markdown",
   "metadata": {},
   "source": [
    "- Trend chart for complaints at monthly granularity level\n",
    "Using only the data for year 2012,2013,2014 & 2015, data for year 2011 and 2016 is not used because 2011 has only one month of data and 2016 has only four month of data."
   ]
  },
  {
   "cell_type": "code",
   "execution_count": 88,
   "metadata": {},
   "outputs": [],
   "source": [
    "# Data for year 2012,2013,2014 & 2015\n",
    "df2012 = df[df.date_received.dt.year==2012]\n",
    "df2013 = df[df.date_received.dt.year==2013]\n",
    "df2014 = df[df.date_received.dt.year==2014]\n",
    "df2015 = df[df.date_received.dt.year==2015]"
   ]
  },
  {
   "cell_type": "code",
   "execution_count": 89,
   "metadata": {},
   "outputs": [
    {
     "name": "stdout",
     "output_type": "stream",
     "text": [
      "Complaints for the Year 2012 : \n",
      "        no_of_complaints\n",
      "month                  \n",
      "Jan                3249\n",
      "Feb                3518\n",
      "Mar                6252\n",
      "Apr                5712\n",
      "May                7633\n",
      "Jun                7866\n",
      "Jul                6769\n",
      "Aug                6894\n",
      "Sep                5501\n",
      "Oct                6746\n",
      "Nov                6141\n",
      "Dec                6242\n",
      "\n",
      "Complaints for the Year 2013 : \n",
      "        no_of_complaints\n",
      "month                  \n",
      "Jan                9745\n",
      "Feb                8350\n",
      "Mar                8790\n",
      "Apr                8636\n",
      "May                8173\n",
      "Jun                8039\n",
      "Jul                9275\n",
      "Aug                9571\n",
      "Sep                9641\n",
      "Oct                9245\n",
      "Nov                9324\n",
      "Dec                9484\n",
      "\n",
      "Complaints for the Year 2014 : \n",
      "        no_of_complaints\n",
      "month                  \n",
      "Jan               12624\n",
      "Feb               13054\n",
      "Mar               13960\n",
      "Apr               13853\n",
      "May               12174\n",
      "Jun               12528\n",
      "Jul               13426\n",
      "Aug               13195\n",
      "Sep               12463\n",
      "Oct               12908\n",
      "Nov               11260\n",
      "Dec               11693\n",
      "\n",
      "Complaints for the Year 2015 : \n",
      "        no_of_complaints\n",
      "month                  \n",
      "Jan               12640\n",
      "Feb               12694\n",
      "Mar               14524\n",
      "Apr               13773\n",
      "May               13700\n",
      "Jun               14534\n",
      "Jul               15933\n",
      "Aug               15779\n",
      "Sep               14343\n",
      "Oct               14905\n",
      "Nov               12901\n",
      "Dec               12895\n"
     ]
    }
   ],
   "source": [
    "# Monthwise complaints for the Year 2012\n",
    "Complaints_2012 = df2012.groupby(df2012.date_received.dt.month).agg({'complaint_id':'count'})\n",
    "Complaints_2012['month'] = ['Jan','Feb','Mar','Apr','May','Jun','Jul','Aug','Sep','Oct','Nov','Dec']\n",
    "Complaints_2012.set_index('month',drop=True,inplace=True)\n",
    "Complaints_2012.rename(columns={'complaint_id':'no_of_complaints'},inplace=True)\n",
    "\n",
    "# Monthwise complaints for the Year 2013\n",
    "Complaints_2013 = df2013.groupby(df2013.date_received.dt.month).agg({'complaint_id':'count'})\n",
    "Complaints_2013['month'] = ['Jan','Feb','Mar','Apr','May','Jun','Jul','Aug','Sep','Oct','Nov','Dec']\n",
    "Complaints_2013.set_index('month',drop=True,inplace=True)\n",
    "Complaints_2013.rename(columns={'complaint_id':'no_of_complaints'},inplace=True)\n",
    "\n",
    "# Monthwise complaints for the Year 2014\n",
    "Complaints_2014 = df2014.groupby(df2014.date_received.dt.month).agg({'complaint_id':'count'})\n",
    "Complaints_2014['month'] = ['Jan','Feb','Mar','Apr','May','Jun','Jul','Aug','Sep','Oct','Nov','Dec']\n",
    "Complaints_2014.set_index('month',drop=True,inplace=True)\n",
    "Complaints_2014.rename(columns={'complaint_id':'no_of_complaints'},inplace=True)\n",
    "\n",
    "# Monthwise complaints for the Year 2015\n",
    "Complaints_2015 = df2015.groupby(df2015.date_received.dt.month).agg({'complaint_id':'count'})\n",
    "Complaints_2015['month'] = ['Jan','Feb','Mar','Apr','May','Jun','Jul','Aug','Sep','Oct','Nov','Dec']\n",
    "Complaints_2015.set_index('month',drop=True,inplace=True)\n",
    "Complaints_2015.rename(columns={'complaint_id':'no_of_complaints'},inplace=True)\n",
    "\n",
    "print('Complaints for the Year 2012 :','\\n',Complaints_2012)\n",
    "print('\\nComplaints for the Year 2013 :','\\n',Complaints_2013)\n",
    "print('\\nComplaints for the Year 2014 :','\\n',Complaints_2014)\n",
    "print('\\nComplaints for the Year 2015 :','\\n',Complaints_2015)"
   ]
  },
  {
   "cell_type": "code",
   "execution_count": 93,
   "metadata": {},
   "outputs": [
    {
     "data": {
      "image/png": "[encoded data removed]",
      "text/plain": [
       "<Figure size 1440x720 with 1 Axes>"
      ]
     },
     "metadata": {
      "needs_background": "light"
     },
     "output_type": "display_data"
    }
   ],
   "source": [
    "# Monthwise complaints trend for the year 2012,2013,2014 & 2015\n",
    "plt.figure(figsize=(20,10))\n",
    "plt.plot(Complaints_2012,marker='o',label='2012')\n",
    "plt.plot(Complaints_2013,marker='o',label='2013')\n",
    "plt.plot(Complaints_2014,marker='o',label='2014')\n",
    "plt.plot(Complaints_2015,marker='o',label='2015')\n",
    "plt.grid()\n",
    "plt.xlabel('Month')\n",
    "plt.ylabel('No of Complaints')\n",
    "plt.legend(loc='upper right')\n",
    "plt.title('Monthwise complaints trend for the year 2012,2013,2014 & 2015')\n",
    "plt.show()"
   ]
  },
  {
   "cell_type": "markdown",
   "metadata": {},
   "source": [
    "* Trend chart for complaints at yearly granularity level"
   ]
  },
  {
   "cell_type": "code",
   "execution_count": 95,
   "metadata": {},
   "outputs": [
    {
     "data": {
      "image/png": "[encoded data removed]",
      "text/plain": [
       "<Figure size 576x648 with 1 Axes>"
      ]
     },
     "metadata": {
      "needs_background": "light"
     },
     "output_type": "display_data"
    }
   ],
   "source": [
    "# Product-wise complaints count :\n",
    "plt.figure(figsize=(8,9))\n",
    "plt.plot(df.groupby(df['date_received'].dt.year).agg({'complaint_id':'count'}),marker='o')\n",
    "plt.grid()\n",
    "plt.xlabel('Year')\n",
    "plt.ylabel('No of Complaints')\n",
    "plt.title('Yearwise complaints')\n",
    "plt.show()"
   ]
  },
  {
   "cell_type": "markdown",
   "metadata": {},
   "source": [
    "* Product-wise complaints count :"
   ]
  },
  {
   "cell_type": "code",
   "execution_count": 97,
   "metadata": {},
   "outputs": [
    {
     "data": {
      "image/png": "[encoded data removed]",
      "text/plain": [
       "<Figure size 720x720 with 1 Axes>"
      ]
     },
     "metadata": {
      "needs_background": "light"
     },
     "output_type": "display_data"
    }
   ],
   "source": [
    "# Product-wise complaints count\n",
    "plt.figure(figsize=(10,10))\n",
    "plt.bar(df['product'].unique(),df['product'].value_counts())\n",
    "plt.ylabel('No of Complaints')\n",
    "plt.xlabel('Products')\n",
    "plt.xticks(rotation=340,horizontalalignment='left')\n",
    "plt.title('Product-wise complaints count')\n",
    "plt.show()"
   ]
  },
  {
   "cell_type": "markdown",
   "metadata": {},
   "source": [
    "* Stacked bar chart of top 10 states with most complaints showing whether consumer disputed or not :"
   ]
  },
  {
   "cell_type": "code",
   "execution_count": 98,
   "metadata": {},
   "outputs": [],
   "source": [
    "df1 = df.groupby(['state','consumer_disputed?']).agg({'consumer_disputed?':'count'})\n",
    "df1.columns = ['No_of_Complaints']\n",
    "df1 = df1.reset_index()\n",
    "\n",
    "df1.rename(columns={'consumer_disputed?':'disputed_or_not'},inplace=True)\n",
    "\n",
    "disputed = df1.query(\"disputed_or_not=='Yes'\")\n",
    "No_disputed = df1.query(\"disputed_or_not=='No'\")"
   ]
  },
  {
   "cell_type": "code",
   "execution_count": 99,
   "metadata": {},
   "outputs": [],
   "source": [
    "disputed = disputed.drop('disputed_or_not',axis=1)\n",
    "not_disputed = No_disputed.drop('disputed_or_not',axis=1)\n",
    "\n",
    "disputed.rename(columns = {'No_of_Complaints':'Yes'},inplace=True)\n",
    "not_disputed.rename(columns = {'No_of_Complaints':'No'},inplace=True)\n",
    "\n",
    "disputed.set_index('state',inplace=True)\n",
    "not_disputed.set_index('state',inplace=True)\n",
    "\n",
    "disputed_or_not = pd.concat([disputed,not_disputed],axis=1)\n",
    "disputed_or_not['total_complaints'] = disputed_or_not.Yes+disputed_or_not.No"
   ]
  },
  {
   "cell_type": "code",
   "execution_count": 100,
   "metadata": {},
   "outputs": [
    {
     "data": {
      "text/html": [
       "<div>\n",
       "<style scoped>\n",
       "    .dataframe tbody tr th:only-of-type {\n",
       "        vertical-align: middle;\n",
       "    }\n",
       "\n",
       "    .dataframe tbody tr th {\n",
       "        vertical-align: top;\n",
       "    }\n",
       "\n",
       "    .dataframe thead th {\n",
       "        text-align: right;\n",
       "    }\n",
       "</style>\n",
       "<table border=\"1\" class=\"dataframe\">\n",
       "  <thead>\n",
       "    <tr style=\"text-align: right;\">\n",
       "      <th></th>\n",
       "      <th>Yes</th>\n",
       "      <th>No</th>\n",
       "      <th>total_complaints</th>\n",
       "    </tr>\n",
       "    <tr>\n",
       "      <th>state</th>\n",
       "      <th></th>\n",
       "      <th></th>\n",
       "      <th></th>\n",
       "    </tr>\n",
       "  </thead>\n",
       "  <tbody>\n",
       "    <tr>\n",
       "      <th>CA</th>\n",
       "      <td>17615</td>\n",
       "      <td>64085</td>\n",
       "      <td>81700</td>\n",
       "    </tr>\n",
       "    <tr>\n",
       "      <th>FL</th>\n",
       "      <td>10443</td>\n",
       "      <td>43230</td>\n",
       "      <td>53673</td>\n",
       "    </tr>\n",
       "    <tr>\n",
       "      <th>TX</th>\n",
       "      <td>7601</td>\n",
       "      <td>33751</td>\n",
       "      <td>41352</td>\n",
       "    </tr>\n",
       "    <tr>\n",
       "      <th>NY</th>\n",
       "      <td>7463</td>\n",
       "      <td>30803</td>\n",
       "      <td>38266</td>\n",
       "    </tr>\n",
       "    <tr>\n",
       "      <th>GA</th>\n",
       "      <td>4802</td>\n",
       "      <td>19746</td>\n",
       "      <td>24548</td>\n",
       "    </tr>\n",
       "    <tr>\n",
       "      <th>...</th>\n",
       "      <td>...</td>\n",
       "      <td>...</td>\n",
       "      <td>...</td>\n",
       "    </tr>\n",
       "    <tr>\n",
       "      <th>MH</th>\n",
       "      <td>5</td>\n",
       "      <td>22</td>\n",
       "      <td>27</td>\n",
       "    </tr>\n",
       "    <tr>\n",
       "      <th>MP</th>\n",
       "      <td>3</td>\n",
       "      <td>16</td>\n",
       "      <td>19</td>\n",
       "    </tr>\n",
       "    <tr>\n",
       "      <th>AS</th>\n",
       "      <td>5</td>\n",
       "      <td>12</td>\n",
       "      <td>17</td>\n",
       "    </tr>\n",
       "    <tr>\n",
       "      <th>PW</th>\n",
       "      <td>3</td>\n",
       "      <td>6</td>\n",
       "      <td>9</td>\n",
       "    </tr>\n",
       "    <tr>\n",
       "      <th>AA</th>\n",
       "      <td>3</td>\n",
       "      <td>6</td>\n",
       "      <td>9</td>\n",
       "    </tr>\n",
       "  </tbody>\n",
       "</table>\n",
       "<p>62 rows × 3 columns</p>\n",
       "</div>"
      ],
      "text/plain": [
       "         Yes     No  total_complaints\n",
       "state                                \n",
       "CA     17615  64085             81700\n",
       "FL     10443  43230             53673\n",
       "TX      7601  33751             41352\n",
       "NY      7463  30803             38266\n",
       "GA      4802  19746             24548\n",
       "...      ...    ...               ...\n",
       "MH         5     22                27\n",
       "MP         3     16                19\n",
       "AS         5     12                17\n",
       "PW         3      6                 9\n",
       "AA         3      6                 9\n",
       "\n",
       "[62 rows x 3 columns]"
      ]
     },
     "execution_count": 100,
     "metadata": {},
     "output_type": "execute_result"
    }
   ],
   "source": [
    "disputed_or_not.sort_values('total_complaints',ascending=False,inplace=True)\n",
    "disputed_or_not"
   ]
  },
  {
   "cell_type": "code",
   "execution_count": 102,
   "metadata": {},
   "outputs": [
    {
     "data": {
      "image/png": "[encoded data removed]",
      "text/plain": [
       "<Figure size 720x720 with 1 Axes>"
      ]
     },
     "metadata": {
      "needs_background": "light"
     },
     "output_type": "display_data"
    }
   ],
   "source": [
    "# Stacked bar chart of top 10 company with most complaints showing whether the response provided to the consumer is on-time or not :\n",
    "plt.figure(figsize=(10,10))\n",
    "plt.bar(disputed_or_not.head(10).index,disputed_or_not.Yes.head(10),label='Consumer disputed')\n",
    "plt.bar(disputed_or_not.head(10).index,disputed_or_not.No.head(10),bottom=disputed_or_not.Yes.head(10),\n",
    "        label='Consumer not disputed')\n",
    "plt.legend()\n",
    "plt.xlabel('State')\n",
    "plt.ylabel('No of Complaints')\n",
    "plt.title('Top 10 states with most complaints showing whether consumer disputed or not')\n",
    "plt.show()"
   ]
  },
  {
   "cell_type": "markdown",
   "metadata": {},
   "source": [
    "* Stacked bar chart of top 10 company with most complaints showing whether the response provided to the consumer is on-time or not :"
   ]
  },
  {
   "cell_type": "code",
   "execution_count": 103,
   "metadata": {},
   "outputs": [],
   "source": [
    "df2 = df.groupby(['company','timely_response']).agg({'timely_response':'count'})\n",
    "df2.columns = ['No_of_Complaints']\n",
    "df2 = df2.reset_index()\n",
    "\n",
    "timely_response = df2.query(\"timely_response=='Yes'\")\n",
    "late_response = df2.query(\"timely_response=='No'\")"
   ]
  },
  {
   "cell_type": "code",
   "execution_count": 104,
   "metadata": {},
   "outputs": [],
   "source": [
    "timely_response = timely_response.drop('timely_response',axis=1)\n",
    "late_response = late_response.drop('timely_response',axis=1)\n",
    "timely_response.rename(columns = {'No_of_Complaints':'timely_response'},inplace=True)\n",
    "late_response.rename(columns = {'No_of_Complaints':'late_response'},inplace=True)\n",
    "timely_response.set_index('company',inplace=True)\n",
    "late_response.set_index('company',inplace=True)\n",
    "timely_or_late_response = pd.concat([timely_response,late_response],axis=1)\n",
    "timely_or_late_response['total_complaints'] = timely_response.timely_response+late_response.late_response"
   ]
  },
  {
   "cell_type": "code",
   "execution_count": 105,
   "metadata": {},
   "outputs": [
    {
     "data": {
      "text/html": [
       "<div>\n",
       "<style scoped>\n",
       "    .dataframe tbody tr th:only-of-type {\n",
       "        vertical-align: middle;\n",
       "    }\n",
       "\n",
       "    .dataframe tbody tr th {\n",
       "        vertical-align: top;\n",
       "    }\n",
       "\n",
       "    .dataframe thead th {\n",
       "        text-align: right;\n",
       "    }\n",
       "</style>\n",
       "<table border=\"1\" class=\"dataframe\">\n",
       "  <thead>\n",
       "    <tr style=\"text-align: right;\">\n",
       "      <th></th>\n",
       "      <th>timely_response</th>\n",
       "      <th>late_response</th>\n",
       "      <th>total_complaints</th>\n",
       "    </tr>\n",
       "  </thead>\n",
       "  <tbody>\n",
       "    <tr>\n",
       "      <th>Bank of America</th>\n",
       "      <td>54446.0</td>\n",
       "      <td>1552.0</td>\n",
       "      <td>55998.0</td>\n",
       "    </tr>\n",
       "    <tr>\n",
       "      <th>Wells Fargo &amp; Company</th>\n",
       "      <td>41651.0</td>\n",
       "      <td>373.0</td>\n",
       "      <td>42024.0</td>\n",
       "    </tr>\n",
       "    <tr>\n",
       "      <th>JPMorgan Chase &amp; Co.</th>\n",
       "      <td>33798.0</td>\n",
       "      <td>83.0</td>\n",
       "      <td>33881.0</td>\n",
       "    </tr>\n",
       "    <tr>\n",
       "      <th>Experian</th>\n",
       "      <td>30899.0</td>\n",
       "      <td>6.0</td>\n",
       "      <td>30905.0</td>\n",
       "    </tr>\n",
       "    <tr>\n",
       "      <th>Citibank</th>\n",
       "      <td>25226.0</td>\n",
       "      <td>314.0</td>\n",
       "      <td>25540.0</td>\n",
       "    </tr>\n",
       "    <tr>\n",
       "      <th>Ocwen</th>\n",
       "      <td>20439.0</td>\n",
       "      <td>539.0</td>\n",
       "      <td>20978.0</td>\n",
       "    </tr>\n",
       "    <tr>\n",
       "      <th>Capital One</th>\n",
       "      <td>15569.0</td>\n",
       "      <td>59.0</td>\n",
       "      <td>15628.0</td>\n",
       "    </tr>\n",
       "    <tr>\n",
       "      <th>Nationstar Mortgage</th>\n",
       "      <td>13125.0</td>\n",
       "      <td>125.0</td>\n",
       "      <td>13250.0</td>\n",
       "    </tr>\n",
       "    <tr>\n",
       "      <th>U.S. Bancorp</th>\n",
       "      <td>9463.0</td>\n",
       "      <td>91.0</td>\n",
       "      <td>9554.0</td>\n",
       "    </tr>\n",
       "    <tr>\n",
       "      <th>Ditech Financial LLC</th>\n",
       "      <td>8658.0</td>\n",
       "      <td>21.0</td>\n",
       "      <td>8679.0</td>\n",
       "    </tr>\n",
       "  </tbody>\n",
       "</table>\n",
       "</div>"
      ],
      "text/plain": [
       "                       timely_response  late_response  total_complaints\n",
       "Bank of America                54446.0         1552.0           55998.0\n",
       "Wells Fargo & Company          41651.0          373.0           42024.0\n",
       "JPMorgan Chase & Co.           33798.0           83.0           33881.0\n",
       "Experian                       30899.0            6.0           30905.0\n",
       "Citibank                       25226.0          314.0           25540.0\n",
       "Ocwen                          20439.0          539.0           20978.0\n",
       "Capital One                    15569.0           59.0           15628.0\n",
       "Nationstar Mortgage            13125.0          125.0           13250.0\n",
       "U.S. Bancorp                    9463.0           91.0            9554.0\n",
       "Ditech Financial LLC            8658.0           21.0            8679.0"
      ]
     },
     "execution_count": 105,
     "metadata": {},
     "output_type": "execute_result"
    }
   ],
   "source": [
    "timely_or_late_response.sort_values('total_complaints',ascending=False,inplace=True)\n",
    "timely_or_late_response.head(10)"
   ]
  },
  {
   "cell_type": "code",
   "execution_count": 107,
   "metadata": {},
   "outputs": [
    {
     "data": {
      "image/png": "[encoded data removed]",
      "text/plain": [
       "<Figure size 720x720 with 1 Axes>"
      ]
     },
     "metadata": {
      "needs_background": "light"
     },
     "output_type": "display_data"
    }
   ],
   "source": [
    "# Stacked bar chart\n",
    "plt.figure(figsize=(10,10))\n",
    "plt.barh(timely_or_late_response.head(10).index,timely_or_late_response.timely_response.head(10),label='Timely response')\n",
    "plt.barh(timely_or_late_response.head(10).index,timely_or_late_response.late_response.head(10),\n",
    "         left=timely_or_late_response.timely_response.head(10),label='Late response')\n",
    "plt.legend()\n",
    "plt.ylabel('Company')\n",
    "plt.xlabel('No of Complaints')\n",
    "plt.title('Top 10 company with most complaints showing whether the response is provided to the consumer on time or not')\n",
    "plt.show()"
   ]
  },
  {
   "cell_type": "markdown",
   "metadata": {},
   "source": [
    "* Count plot of different responses provided to the consumers by the companies :"
   ]
  },
  {
   "cell_type": "code",
   "execution_count": 109,
   "metadata": {},
   "outputs": [
    {
     "data": {
      "image/png": "[encoded data removed]",
      "text/plain": [
       "<Figure size 576x576 with 1 Axes>"
      ]
     },
     "metadata": {
      "needs_background": "light"
     },
     "output_type": "display_data"
    }
   ],
   "source": [
    "# Avg no. of days taken for the complaint to reach to the company depending upon the mode of submission :\n",
    "plt.figure(figsize=(8,8))\n",
    "plt.barh(df.company_response_to_consumer.unique(),round((df.company_response_to_consumer.value_counts()/len(df))*100,2))\n",
    "plt.xlabel('Percentage of Complaints')\n",
    "plt.ylabel('Response provided to the consumers')\n",
    "plt.title('Response provided for the complaints')\n",
    "plt.show()"
   ]
  },
  {
   "cell_type": "markdown",
   "metadata": {},
   "source": [
    "* Avg no. of days taken for the complaint to reach to the company depending upon the mode of submission :"
   ]
  },
  {
   "cell_type": "code",
   "execution_count": 110,
   "metadata": {},
   "outputs": [],
   "source": [
    "df3 = df.loc[:,['submitted_via','date_received','date_sent_to_company']]\n",
    "df3['no_of_days'] = df3['date_sent_to_company']-df3['date_received']"
   ]
  },
  {
   "cell_type": "code",
   "execution_count": 111,
   "metadata": {},
   "outputs": [
    {
     "data": {
      "text/plain": [
       "submitted_via                    object\n",
       "date_received            datetime64[ns]\n",
       "date_sent_to_company     datetime64[ns]\n",
       "no_of_days              timedelta64[ns]\n",
       "dtype: object"
      ]
     },
     "execution_count": 111,
     "metadata": {},
     "output_type": "execute_result"
    }
   ],
   "source": [
    "# Datatype of no_of_days is timedelta. It should be integer, so that no. of days can be aggregated at mean level.\n",
    "df3.dtypes"
   ]
  },
  {
   "cell_type": "markdown",
   "metadata": {},
   "source": [
    "* Datatype of no_of_days is timedelta. It should be integer, so that no. of days can be aggregated at mean level."
   ]
  },
  {
   "cell_type": "code",
   "execution_count": 112,
   "metadata": {},
   "outputs": [
    {
     "data": {
      "text/html": [
       "<div>\n",
       "<style scoped>\n",
       "    .dataframe tbody tr th:only-of-type {\n",
       "        vertical-align: middle;\n",
       "    }\n",
       "\n",
       "    .dataframe tbody tr th {\n",
       "        vertical-align: top;\n",
       "    }\n",
       "\n",
       "    .dataframe thead th {\n",
       "        text-align: right;\n",
       "    }\n",
       "</style>\n",
       "<table border=\"1\" class=\"dataframe\">\n",
       "  <thead>\n",
       "    <tr style=\"text-align: right;\">\n",
       "      <th></th>\n",
       "      <th>submitted_via</th>\n",
       "      <th>date_received</th>\n",
       "      <th>date_sent_to_company</th>\n",
       "      <th>no_of_days</th>\n",
       "    </tr>\n",
       "  </thead>\n",
       "  <tbody>\n",
       "    <tr>\n",
       "      <th>0</th>\n",
       "      <td>Referral</td>\n",
       "      <td>2013-08-30</td>\n",
       "      <td>2013-09-03</td>\n",
       "      <td>4</td>\n",
       "    </tr>\n",
       "    <tr>\n",
       "      <th>1</th>\n",
       "      <td>Referral</td>\n",
       "      <td>2013-08-30</td>\n",
       "      <td>2013-09-03</td>\n",
       "      <td>4</td>\n",
       "    </tr>\n",
       "    <tr>\n",
       "      <th>2</th>\n",
       "      <td>Postal mail</td>\n",
       "      <td>2013-08-30</td>\n",
       "      <td>2013-09-18</td>\n",
       "      <td>19</td>\n",
       "    </tr>\n",
       "    <tr>\n",
       "      <th>3</th>\n",
       "      <td>Email</td>\n",
       "      <td>2013-08-30</td>\n",
       "      <td>2013-08-30</td>\n",
       "      <td>0</td>\n",
       "    </tr>\n",
       "    <tr>\n",
       "      <th>4</th>\n",
       "      <td>Web</td>\n",
       "      <td>2013-08-30</td>\n",
       "      <td>2013-08-30</td>\n",
       "      <td>0</td>\n",
       "    </tr>\n",
       "    <tr>\n",
       "      <th>...</th>\n",
       "      <td>...</td>\n",
       "      <td>...</td>\n",
       "      <td>...</td>\n",
       "      <td>...</td>\n",
       "    </tr>\n",
       "    <tr>\n",
       "      <th>555952</th>\n",
       "      <td>Referral</td>\n",
       "      <td>2014-07-01</td>\n",
       "      <td>2014-07-07</td>\n",
       "      <td>6</td>\n",
       "    </tr>\n",
       "    <tr>\n",
       "      <th>555953</th>\n",
       "      <td>Referral</td>\n",
       "      <td>2014-07-01</td>\n",
       "      <td>2014-07-23</td>\n",
       "      <td>22</td>\n",
       "    </tr>\n",
       "    <tr>\n",
       "      <th>555954</th>\n",
       "      <td>Phone</td>\n",
       "      <td>2012-07-10</td>\n",
       "      <td>2013-11-18</td>\n",
       "      <td>496</td>\n",
       "    </tr>\n",
       "    <tr>\n",
       "      <th>555955</th>\n",
       "      <td>Phone</td>\n",
       "      <td>2015-04-14</td>\n",
       "      <td>2015-04-14</td>\n",
       "      <td>0</td>\n",
       "    </tr>\n",
       "    <tr>\n",
       "      <th>555956</th>\n",
       "      <td>Phone</td>\n",
       "      <td>2014-08-14</td>\n",
       "      <td>2014-08-18</td>\n",
       "      <td>4</td>\n",
       "    </tr>\n",
       "  </tbody>\n",
       "</table>\n",
       "<p>555957 rows × 4 columns</p>\n",
       "</div>"
      ],
      "text/plain": [
       "       submitted_via date_received date_sent_to_company  no_of_days\n",
       "0           Referral    2013-08-30           2013-09-03           4\n",
       "1           Referral    2013-08-30           2013-09-03           4\n",
       "2        Postal mail    2013-08-30           2013-09-18          19\n",
       "3              Email    2013-08-30           2013-08-30           0\n",
       "4                Web    2013-08-30           2013-08-30           0\n",
       "...              ...           ...                  ...         ...\n",
       "555952      Referral    2014-07-01           2014-07-07           6\n",
       "555953      Referral    2014-07-01           2014-07-23          22\n",
       "555954         Phone    2012-07-10           2013-11-18         496\n",
       "555955         Phone    2015-04-14           2015-04-14           0\n",
       "555956         Phone    2014-08-14           2014-08-18           4\n",
       "\n",
       "[555957 rows x 4 columns]"
      ]
     },
     "execution_count": 112,
     "metadata": {},
     "output_type": "execute_result"
    }
   ],
   "source": [
    "df3['no_of_days'] = df3['no_of_days'].dt.days\n",
    "df3"
   ]
  },
  {
   "cell_type": "code",
   "execution_count": 113,
   "metadata": {},
   "outputs": [],
   "source": [
    "df3.drop(['date_received','date_sent_to_company'],axis=1,inplace=True)"
   ]
  },
  {
   "cell_type": "code",
   "execution_count": 114,
   "metadata": {},
   "outputs": [
    {
     "data": {
      "text/html": [
       "<div>\n",
       "<style scoped>\n",
       "    .dataframe tbody tr th:only-of-type {\n",
       "        vertical-align: middle;\n",
       "    }\n",
       "\n",
       "    .dataframe tbody tr th {\n",
       "        vertical-align: top;\n",
       "    }\n",
       "\n",
       "    .dataframe thead th {\n",
       "        text-align: right;\n",
       "    }\n",
       "</style>\n",
       "<table border=\"1\" class=\"dataframe\">\n",
       "  <thead>\n",
       "    <tr style=\"text-align: right;\">\n",
       "      <th></th>\n",
       "      <th>no_of_days</th>\n",
       "    </tr>\n",
       "    <tr>\n",
       "      <th>submitted_via</th>\n",
       "      <th></th>\n",
       "    </tr>\n",
       "  </thead>\n",
       "  <tbody>\n",
       "    <tr>\n",
       "      <th>Web</th>\n",
       "      <td>4.0</td>\n",
       "    </tr>\n",
       "    <tr>\n",
       "      <th>Phone</th>\n",
       "      <td>5.0</td>\n",
       "    </tr>\n",
       "    <tr>\n",
       "      <th>Referral</th>\n",
       "      <td>6.0</td>\n",
       "    </tr>\n",
       "    <tr>\n",
       "      <th>Fax</th>\n",
       "      <td>7.0</td>\n",
       "    </tr>\n",
       "    <tr>\n",
       "      <th>Email</th>\n",
       "      <td>8.0</td>\n",
       "    </tr>\n",
       "    <tr>\n",
       "      <th>Postal mail</th>\n",
       "      <td>10.0</td>\n",
       "    </tr>\n",
       "  </tbody>\n",
       "</table>\n",
       "</div>"
      ],
      "text/plain": [
       "               no_of_days\n",
       "submitted_via            \n",
       "Web                   4.0\n",
       "Phone                 5.0\n",
       "Referral              6.0\n",
       "Fax                   7.0\n",
       "Email                 8.0\n",
       "Postal mail          10.0"
      ]
     },
     "execution_count": 114,
     "metadata": {},
     "output_type": "execute_result"
    }
   ],
   "source": [
    "df3 = df3.groupby('submitted_via').agg({'no_of_days':'mean'})\n",
    "df3.no_of_days = round(df3.no_of_days,0)\n",
    "df3.sort_values('no_of_days',ascending=True,inplace=True)\n",
    "df3"
   ]
  },
  {
   "cell_type": "code",
   "execution_count": 116,
   "metadata": {
    "scrolled": false
   },
   "outputs": [
    {
     "data": {
      "image/png": "[encoded data removed]",
      "text/plain": [
       "<Figure size 576x576 with 1 Axes>"
      ]
     },
     "metadata": {
      "needs_background": "light"
     },
     "output_type": "display_data"
    }
   ],
   "source": [
    "plt.figure(figsize=(8,8))\n",
    "plt.bar(df3.index,df3.no_of_days)\n",
    "plt.xlabel('Mode of submitting the complaint')\n",
    "plt.ylabel('Avg no. of days for the complaint to reach to the company')\n",
    "plt.title('Avg no. of days taken for the complaint to reach to the company depending upon the mode of submission')\n",
    "plt.show()"
   ]
  },
  {
   "cell_type": "markdown",
   "metadata": {},
   "source": [
    "# Conclusion :"
   ]
  },
  {
   "cell_type": "markdown",
   "metadata": {},
   "source": [
    " - Total of 555957 finance complaints about 10+ products were filed between 2011-12-01 and 2016-04-25.\n",
    " - Maximum number of complaints is regarding Mortgage.\n",
    " - State of California has received the most complaints.\n",
    " - There are total of 3605 companies the complaints were filed against.\n",
    " - Bank of America has received the maximum complaints.\n",
    " - In more than 70% cases the consumer is provided with just the explaination by the company.\n",
    " - Complaints were filed by six different mode, namely via Web, Phone, Referral, Fax, Email & Postal mail.\n",
    " - Out of the six mode, the fastet way to send the complaint to the companies is via web."
   ]
  }
 ],
 "metadata": {
  "kernelspec": {
   "display_name": "Python 3",
   "language": "python",
   "name": "python3"
  },
  "language_info": {
   "codemirror_mode": {
    "name": "ipython",
    "version": 3
   },
   "file_extension": ".py",
   "mimetype": "text/x-python",
   "name": "python",
   "nbconvert_exporter": "python",
   "pygments_lexer": "ipython3",
   "version": "3.8.5"
  }
 },
 "nbformat": 4,
 "nbformat_minor": 4
}
